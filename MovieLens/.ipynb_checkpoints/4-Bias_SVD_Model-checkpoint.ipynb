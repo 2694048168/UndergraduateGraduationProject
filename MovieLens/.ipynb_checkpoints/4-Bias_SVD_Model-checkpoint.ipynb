{
 "cells": [
  {
   "cell_type": "code",
   "execution_count": 145,
   "metadata": {},
   "outputs": [],
   "source": [
    "# 模块和包都是在逐步的探索中所需要的，全部汇总到这里，\n",
    "#    并不是一开始就知道了 ^_^ ^_^ ^_^ \n",
    "# 不熟悉的模块和包，强烈建议查看官方文档说明以及例子\n",
    "# 1、导入模块和包\n",
    "import pandas as pd    # 加载并处理csv文件\n",
    "import datetime        # 利用datetime处理时间戳\n",
    "# cPickle 数据以二进制进行高效的储存到文件\n",
    "import _pickle as cPickle \n",
    "# defaultdict 设置稀疏矩阵的 NULL 位置的默认值\n",
    "from collections import defaultdict \n",
    "# 利用scipy sparse 构建稀疏矩阵\n",
    "import scipy.sparse as ss     \n",
    "import scipy.io as sio    # 利用scipy储存评分矩阵\n",
    "# 利用numpy创建指定长度或形状的矩阵以及矩阵运算\n",
    "import numpy as np \n",
    "# numpy.random中的randn函数生成正态分布的随机数据\n",
    "from numpy.random import random    \n",
    "import time    # 计算训练时迭代的时间\n",
    "import json    # 将模型参数保存和加载 json文件\n",
    "import scipy    # 将储存加载的稀疏评分矩阵转换为numpy矩阵"
   ]
  },
  {
   "cell_type": "code",
   "execution_count": 146,
   "metadata": {},
   "outputs": [
    {
     "name": "stdout",
     "output_type": "stream",
     "text": [
      "the number of user: 1956\n",
      "the number of movie: 1340\n"
     ]
    }
   ],
   "source": [
    "# 加载训练集数据\n",
    "data_path = \"./../dataset/ml-25m/\"\n",
    "train = pd.read_csv(data_path + \"train.csv\", sep = \",\", nrows = 2000)\n",
    "# 计算用户数量和电影数量\n",
    "unique_user = train['userId'].unique()\n",
    "unique_item = train['movieId'].unique()\n",
    "user_num = unique_user.shape[0]\n",
    "item_num = unique_item.shape[0]\n",
    "print(\"the number of user:\",user_num)\n",
    "print(\"the number of movie:\",item_num)"
   ]
  },
  {
   "cell_type": "code",
   "execution_count": 147,
   "metadata": {},
   "outputs": [],
   "source": [
    "# 4、模型探索\n",
    "# 4.1、BiasSVD r(ui) = average + bu + bi + Pu'T Qi\n",
    "# 4.1.1、初始化BiasSVD模型参数\n",
    "# 隐含变量的维数 m*n = m*k * k*n\n",
    "# 设置参数变量，可以随时调整模型参数值\n",
    "# 18 个电影类型 10、12、14、16、18、20、24、36\n",
    "k = 6\n",
    "# Item和User的偏置项\n",
    "# zeros和ones分别可以创建指定长度或形状的全0或全1数组。\n",
    "bi = np.zeros((item_num, 1))    # n 行 1 列\n",
    "bu = np.zeros((user_num, 1))    # m 行 1 列\n",
    "# Item和User的隐含向量\n",
    "qi = np.zeros((item_num, k))    # n 行 k 列    \n",
    "pu = np.zeros((user_num, k))    # m 行 k 列\n",
    "# 使用numpy.random中的randn函数生成一些正态分布的随机数据\n",
    "# pu和qi，两个矩阵的初始化，可以使全为零\n",
    "# 也可以符合正态分布（高斯分布），同时也隐向量维度k的平方有关\n",
    "for user_id in range(user_num):\n",
    "    pu[user_id] = np.reshape(random((k, 1)) / 10 * np.sqrt(k), k)\n",
    "       \n",
    "for item_id in range(item_num):\n",
    "    qi[item_id] = np.reshape(random((k, 1)) / 10 * np.sqrt(k), k)\n",
    "\n",
    "# 所有用户的平均打分\n",
    "average = train['rating'].mean()"
   ]
  },
  {
   "cell_type": "code",
   "execution_count": 148,
   "metadata": {},
   "outputs": [],
   "source": [
    "# 4.1.2、根据初始化BiasSVD模型参数进行预测评分\n",
    "# 根据当前模型参数，预测用户对物品打分\n",
    "def BiasSVD_prediction(user_id, item_id):  \n",
    "    score = average + bi[item_id] + bu[user_id] + np.sum(qi[item_id] * pu[user_id]) \n",
    "    return score "
   ]
  },
  {
   "cell_type": "code",
   "execution_count": 149,
   "metadata": {},
   "outputs": [],
   "source": [
    "# 加载重新索引的用户索引表\n",
    "user_index = cPickle.load(open(data_path + \"user_index.pkl\", 'rb'))\n",
    "# 加载重新索引的电影索引表\n",
    "item_index = cPickle.load(open(data_path + \"item_index.pkl\", 'rb'))"
   ]
  },
  {
   "cell_type": "code",
   "execution_count": 150,
   "metadata": {},
   "outputs": [
    {
     "name": "stdout",
     "output_type": "stream",
     "text": [
      "开始进行20个step的训练\n",
      "The 0-th  step is running\n",
      "完成第1个step的训练, each_rmse=[1.07050233], 耗时3.0942秒\n",
      "The 1-th  step is running\n",
      "完成第2个step的训练, each_rmse=[1.05755324], 耗时2.9742秒\n",
      "The 2-th  step is running\n",
      "完成第3个step的训练, each_rmse=[1.04576427], 耗时3.0012秒\n",
      "The 3-th  step is running\n",
      "完成第4个step的训练, each_rmse=[1.03501319], 耗时3.0312秒\n",
      "The 4-th  step is running\n",
      "完成第5个step的训练, each_rmse=[1.02518901], 耗时2.9642秒\n",
      "The 5-th  step is running\n",
      "完成第6个step的训练, each_rmse=[1.01619998], 耗时3.0212秒\n",
      "The 6-th  step is running\n",
      "完成第7个step的训练, each_rmse=[1.00796889], 耗时3.0162秒\n",
      "The 7-th  step is running\n",
      "完成第8个step的训练, each_rmse=[1.00041612], 耗时2.9982秒\n",
      "The 8-th  step is running\n",
      "完成第9个step的训练, each_rmse=[0.99348262], 耗时2.9922秒\n",
      "The 9-th  step is running\n",
      "完成第10个step的训练, each_rmse=[0.98711087], 耗时3.2182秒\n",
      "The 10-th  step is running\n",
      "完成第11个step的训练, each_rmse=[0.98124668], 耗时3.0792秒\n",
      "The 11-th  step is running\n",
      "完成第12个step的训练, each_rmse=[0.97584865], 耗时3.0072秒\n",
      "The 12-th  step is running\n",
      "完成第13个step的训练, each_rmse=[0.97087605], 耗时3.0432秒\n",
      "The 13-th  step is running\n",
      "完成第14个step的训练, each_rmse=[0.96628948], 耗时3.1632秒\n",
      "The 14-th  step is running\n",
      "完成第15个step的训练, each_rmse=[0.96205775], 耗时3.1242秒\n",
      "The 15-th  step is running\n",
      "完成第16个step的训练, each_rmse=[0.95815124], 耗时3.2092秒\n",
      "The 16-th  step is running\n",
      "完成第17个step的训练, each_rmse=[0.95454216], 耗时3.0092秒\n",
      "The 17-th  step is running\n",
      "完成第18个step的训练, each_rmse=[0.95120671], 耗时3.0122秒\n",
      "The 18-th  step is running\n",
      "完成第19个step的训练, each_rmse=[0.94812267], 耗时3.0232秒\n",
      "The 19-th  step is running\n",
      "完成第20个step的训练, each_rmse=[0.94526853], 耗时3.0002秒\n",
      "结束了20个step的训练，总耗时60.9825秒\n"
     ]
    }
   ],
   "source": [
    "# 4.1.3、BiasSVD模型训练\n",
    "# 参数：gamma —学习率、Lambda —正则参数、steps —迭代次数\n",
    "# 初始化BiasSVD模型超参数\n",
    "# 迭代次数：20、40、60、80、100\n",
    "steps = 20\n",
    "#each_rmse_list = list()\n",
    "gamma = 0.005\n",
    "#each_gamma_list = list()\n",
    "Lambda = 0.15\n",
    "# 总的评分记录数目\n",
    "total_records = train.shape[0]\n",
    "# 第一次迭代时间开始\n",
    "time_start = time.time()\n",
    "print(\"开始进行{}个step的训练\".format(steps))\n",
    "each_time_start = time_start\n",
    "\n",
    "for step in range(steps):\n",
    "    print('The {}-th  step is running'.format(step))\n",
    "    rmse_sum = 0.0    # 真实评分与预测评分的差值的平方            \n",
    "    # 利用numpy.random.permutation函数可以轻松实现\n",
    "    #   对Series或DataFrame的列的排列工作，随机重排序\n",
    "    # 通过需要排列的轴的长度调用permutation， \n",
    "    #   可产生一个表示新顺序的整数数组\n",
    "    # 将训练样本打散顺序 \n",
    "    total_num = np.random.permutation(total_records)  \n",
    "    for index in range(total_records):\n",
    "        # 每次一个训练样本,即一条记录\n",
    "        row = total_num[index]\n",
    "        \n",
    "        user_id = user_index[ train.iloc [row] ['userId'] ]\n",
    "        item_id = item_index[ train.iloc [row] ['movieId'] ]\n",
    "        rating = train.iloc[row]['rating']\n",
    "        \n",
    "        # 目标函数构建\n",
    "        # 预测残差\n",
    "        eui = rating - BiasSVD_prediction(user_id, item_id)\n",
    "        # residual sum of squares 残差平方和 \n",
    "        rmse_sum += eui**2\n",
    "\n",
    "        # 随机梯度下降，更新\n",
    "        bu[user_id] += gamma * (eui - Lambda * bu[user_id])  \n",
    "        bi[item_id] += gamma * (eui - Lambda * bi[item_id])\n",
    "                \n",
    "        temp = qi[item_id]  \n",
    "        qi[item_id] += gamma * (eui * pu[user_id] - Lambda * qi[item_id])\n",
    "        pu[user_id] += gamma * (eui * temp - Lambda * pu[user_id])\n",
    "            \n",
    "    # 学习率递减 / learning rate improve 3th\n",
    "    #each_gamma_list.append(gamma)\n",
    "    gamma = gamma * 0.93\n",
    "    # Root Mean Square Error RMSE\n",
    "    each_rmse = np.sqrt(rmse_sum / total_records)\n",
    "    #each_rmse_list.append(each_rmse)\n",
    "    \n",
    "    # 每次迭代时间结束\n",
    "    each_time_tick = time.time()\n",
    "    # 每次迭代消耗的时间\n",
    "    each_cost_time = each_time_tick - each_time_start\n",
    "    # 更新计算每次迭代的时间\n",
    "    each_time_start = each_time_tick\n",
    "    print(\"完成第{}个step的训练, each_rmse={}, 耗时{:.4f}秒\".format(\n",
    "        step + 1, each_rmse, each_cost_time))\n",
    "\n",
    "# 计算训练数据集消耗的总时间\n",
    "time_end = time.time()\n",
    "total_cost_time = time_end - time_start\n",
    "print(\"结束了{}个step的训练，总耗时{:.4f}秒\".format(steps, total_cost_time))"
   ]
  },
  {
   "cell_type": "code",
   "execution_count": 151,
   "metadata": {},
   "outputs": [
    {
     "ename": "NameError",
     "evalue": "name 'each_rmse_list' is not defined",
     "output_type": "error",
     "traceback": [
      "\u001b[1;31m---------------------------------------------------------------------------\u001b[0m",
      "\u001b[1;31mNameError\u001b[0m                                 Traceback (most recent call last)",
      "\u001b[1;32m<ipython-input-151-2fa1f3a6749c>\u001b[0m in \u001b[0;36m<module>\u001b[1;34m\u001b[0m\n\u001b[0;32m     19\u001b[0m \u001b[1;33m\u001b[0m\u001b[0m\n\u001b[0;32m     20\u001b[0m \u001b[0mX1\u001b[0m \u001b[1;33m=\u001b[0m \u001b[0mrange\u001b[0m\u001b[1;33m(\u001b[0m\u001b[0msteps\u001b[0m\u001b[1;33m)\u001b[0m\u001b[1;33m\u001b[0m\u001b[1;33m\u001b[0m\u001b[0m\n\u001b[1;32m---> 21\u001b[1;33m \u001b[0mY\u001b[0m \u001b[1;33m=\u001b[0m \u001b[0meach_rmse_list\u001b[0m\u001b[1;33m\u001b[0m\u001b[1;33m\u001b[0m\u001b[0m\n\u001b[0m\u001b[0;32m     22\u001b[0m \u001b[0mplt\u001b[0m\u001b[1;33m.\u001b[0m\u001b[0mplot\u001b[0m\u001b[1;33m(\u001b[0m\u001b[0mX1\u001b[0m\u001b[1;33m,\u001b[0m \u001b[0mY\u001b[0m\u001b[1;33m,\u001b[0m \u001b[1;34m'green'\u001b[0m\u001b[1;33m)\u001b[0m\u001b[1;33m\u001b[0m\u001b[1;33m\u001b[0m\u001b[0m\n\u001b[0;32m     23\u001b[0m \u001b[0mplt\u001b[0m\u001b[1;33m.\u001b[0m\u001b[0mshow\u001b[0m\u001b[1;33m(\u001b[0m\u001b[1;33m)\u001b[0m\u001b[1;33m\u001b[0m\u001b[1;33m\u001b[0m\u001b[0m\n",
      "\u001b[1;31mNameError\u001b[0m: name 'each_rmse_list' is not defined"
     ]
    },
    {
     "data": {
      "image/png": "[encoded data removed]",
      "text/plain": [
       "<Figure size 432x288 with 1 Axes>"
      ]
     },
     "metadata": {
      "needs_background": "light"
     },
     "output_type": "display_data"
    }
   ],
   "source": [
    "# 引入依赖\n",
    "from matplotlib import pyplot as plt\n",
    "from matplotlib import font_manager\n",
    "# 在需要显示中文地方添加属性fontproperties = my_font\n",
    "my_font = font_manager.FontProperties( fname = r\"C:/Windows/fonts/msyhbd.ttf\" )\n",
    "\n",
    "# 添加基本描述信息\n",
    "plt.xlabel(\"迭代次数\", fontproperties = my_font)\n",
    "plt.ylabel(\"损失函数\", fontproperties = my_font)\n",
    "plt.title(\"每次迭代后损失函数\", fontproperties = my_font)\n",
    "\n",
    "# 添加网格，设置透明度\n",
    "plt.grid(alpha=0.4)\n",
    "\n",
    "# 添加文本水印\n",
    "plt.text(0.95, 0.5, \"云主宰苍穹\", \n",
    "         fontsize=80, color='gray',\n",
    "         ha='right', va='bottom', alpha=0.5, fontproperties = my_font)\n",
    "\n",
    "X1 = range(steps)\n",
    "Y = each_rmse_list\n",
    "plt.plot(X1, Y, 'green')\n",
    "plt.show()"
   ]
  },
  {
   "cell_type": "code",
   "execution_count": 152,
   "metadata": {},
   "outputs": [
    {
     "ename": "NameError",
     "evalue": "name 'each_gamma_list' is not defined",
     "output_type": "error",
     "traceback": [
      "\u001b[1;31m---------------------------------------------------------------------------\u001b[0m",
      "\u001b[1;31mNameError\u001b[0m                                 Traceback (most recent call last)",
      "\u001b[1;32m<ipython-input-152-72c643f919ab>\u001b[0m in \u001b[0;36m<module>\u001b[1;34m\u001b[0m\n\u001b[1;32m----> 1\u001b[1;33m \u001b[0mX2\u001b[0m \u001b[1;33m=\u001b[0m \u001b[0meach_gamma_list\u001b[0m\u001b[1;33m\u001b[0m\u001b[1;33m\u001b[0m\u001b[0m\n\u001b[0m\u001b[0;32m      2\u001b[0m \u001b[0mY\u001b[0m \u001b[1;33m=\u001b[0m \u001b[0meach_rmse_list\u001b[0m\u001b[1;33m\u001b[0m\u001b[1;33m\u001b[0m\u001b[0m\n\u001b[0;32m      3\u001b[0m \u001b[0mplt\u001b[0m\u001b[1;33m.\u001b[0m\u001b[0mplot\u001b[0m\u001b[1;33m(\u001b[0m\u001b[0mX2\u001b[0m\u001b[1;33m,\u001b[0m \u001b[0mY\u001b[0m\u001b[1;33m,\u001b[0m \u001b[0mc\u001b[0m \u001b[1;33m=\u001b[0m \u001b[1;34m'red'\u001b[0m\u001b[1;33m)\u001b[0m\u001b[1;33m\u001b[0m\u001b[1;33m\u001b[0m\u001b[0m\n\u001b[0;32m      4\u001b[0m \u001b[0mplt\u001b[0m\u001b[1;33m.\u001b[0m\u001b[0mshow\u001b[0m\u001b[1;33m(\u001b[0m\u001b[1;33m)\u001b[0m\u001b[1;33m\u001b[0m\u001b[1;33m\u001b[0m\u001b[0m\n",
      "\u001b[1;31mNameError\u001b[0m: name 'each_gamma_list' is not defined"
     ]
    }
   ],
   "source": [
    "X2 = each_gamma_list\n",
    "Y = each_rmse_list\n",
    "plt.plot(X2, Y, c = 'red')\n",
    "plt.show()"
   ]
  },
  {
   "cell_type": "code",
   "execution_count": 153,
   "metadata": {},
   "outputs": [],
   "source": [
    "# 4.1.4、BiasSVD模型参数保存\n",
    "# 模型参数保存为json， 键（模型参数）和值（模型参数值）\n",
    "def BiasSVD_parameter_toJson(filepath):\n",
    "    BiasSVD_parameter_dict = dict()\n",
    "    BiasSVD_parameter_dict['average'] = average\n",
    "    BiasSVD_parameter_dict['k'] = k\n",
    "    \n",
    "    # numpy.ndarray.map() 将列表转换为矩阵\n",
    "    # numpy.ndarray.tolist() 将矩阵转换为列表\n",
    "    BiasSVD_parameter_dict['bi'] = bi.tolist()\n",
    "    BiasSVD_parameter_dict['bu'] = bu.tolist()\n",
    "    \n",
    "    BiasSVD_parameter_dict['qi'] = qi.tolist()\n",
    "    BiasSVD_parameter_dict['pu'] = pu.tolist()\n",
    "\n",
    "    # json.loads即可将JSON字符串转换成Python形式\n",
    "    # json.dumps则将Python对象转换成JSON格式\n",
    "    BiasSVD_parameter_toJsonTxt = json.dumps(BiasSVD_parameter_dict)\n",
    "    with open(filepath, 'w') as file:\n",
    "        file.write(BiasSVD_parameter_toJsonTxt)\n"
   ]
  },
  {
   "cell_type": "code",
   "execution_count": 154,
   "metadata": {},
   "outputs": [],
   "source": [
    "# 4.1.5、BiasSVD模型参数加载\n",
    "def BiasSVD_parameter_load_fromJson(filepath):\n",
    "    with open(filepath, 'r') as file:\n",
    "        BiasSVD_parameter_dict = json.load(file)\n",
    "\n",
    "        average = BiasSVD_parameter_dict['average']\n",
    "        K = BiasSVD_parameter_dict['k']\n",
    "\n",
    "        # numpy.asarray 将数据转化为 ndarray 格式\n",
    "        bi = np.asarray(BiasSVD_parameter_dict['bi'])\n",
    "        bu = np.asarray(BiasSVD_parameter_dict['bu'])\n",
    "    \n",
    "        qi = np.asarray(BiasSVD_parameter_dict['qi'])\n",
    "        pu = np.asarray(BiasSVD_parameter_dict['pu'])\n"
   ]
  },
  {
   "cell_type": "code",
   "execution_count": 155,
   "metadata": {},
   "outputs": [],
   "source": [
    "# 4.1.4、BiasSVD模型参数保存\n",
    "BiasSVD_parameter_toJson(data_path + 'BiasSVD_modelParameter.json')\n",
    "# 4.1.5、BiasSVD模型参数加载\n",
    "BiasSVD_parameter_load_fromJson(data_path + 'BiasSVD_modelParameter.json')"
   ]
  },
  {
   "cell_type": "code",
   "execution_count": 156,
   "metadata": {},
   "outputs": [],
   "source": [
    "# 4.1.6、BiasSVD模型评测指标\n",
    "# 数据集的总的样本空间数 T\n",
    "# 真实的用户对物品的评分 rui\n",
    "# 预测的用户对物品的评分 r`ui\n",
    "# 真实评分与预测评分的差值 rss = rui - r`ui\n",
    "\n",
    "# 对 rss 进行绝对值得到 rss_absolute\n",
    "# 对 rss_absolute 进行求和得到 rss_absolute_sum\n",
    "# MAE = rss_absolute_sum / T\n",
    "\n",
    "# 对 rss 进行平方得到 rss_square\n",
    "# 对 rss_square 进行求和得到 rss_square_sum\n",
    "# RMSE = rss_square_sum / T\n",
    "# MSE = rss_square / T\n",
    "\n",
    "def calculate_MAE(dataset):\n",
    "    # 真实评分与预测评分的差值的绝对值之和\n",
    "    mae_sum = 0.0\n",
    "    T = dataset.shape[0]\n",
    "    total_num = np.random.permutation(T)\n",
    "    for index in range(T):\n",
    "        # 每次计算一个样本,即一条记录\n",
    "        row = total_num[index]\n",
    "        rating = dataset.iloc[row]['rating']\n",
    "        \n",
    "        # 预测残差\n",
    "        eui = rating - BiasSVD_prediction(user_id, item_id)\n",
    "        # residual sum of squares 残差平方和 \n",
    "        mae_sum += abs(eui)\n",
    "            \n",
    "    # Root Mean Square Error RMSE\n",
    "    MAE = mae_sum / total_records\n",
    "    return MAE\n",
    "    \n",
    "\n",
    "def calculate_RMSE(dataset):\n",
    "    # 真实评分与预测评分的差值的平方和\n",
    "    rmse_sum = 0.0    \n",
    "    T = dataset.shape[0]\n",
    "    total_num = np.random.permutation(T)\n",
    "    for index in range(T):\n",
    "        # 每次计算一个样本,即一条记录\n",
    "        row = total_num[index]\n",
    "        rating = dataset.iloc[row]['rating']\n",
    "        \n",
    "        # 预测残差\n",
    "        eui = rating - BiasSVD_prediction(user_id, item_id)\n",
    "        # residual sum of squares 残差平方和 \n",
    "        rmse_sum += eui**2\n",
    "            \n",
    "    # Root Mean Square Error RMSE\n",
    "    RMSE = np.sqrt(rmse_sum / total_records)\n",
    "    return RMSE\n"
   ]
  },
  {
   "cell_type": "code",
   "execution_count": 157,
   "metadata": {},
   "outputs": [
    {
     "name": "stdout",
     "output_type": "stream",
     "text": [
      "the MAE of the RS of the train set : [0.84169628]\n",
      "the RMSE of the RS of the train set : [1.07305244]\n"
     ]
    }
   ],
   "source": [
    "# 训练集评测指标：RMSE、MAE\n",
    "print(\"the MAE of the RS of the train set :\", calculate_MAE(train))\n",
    "print(\"the RMSE of the RS of the train set :\", calculate_RMSE(train))"
   ]
  },
  {
   "cell_type": "code",
   "execution_count": null,
   "metadata": {},
   "outputs": [],
   "source": []
  }
 ],
 "metadata": {
  "kernelspec": {
   "display_name": "Python 3",
   "language": "python",
   "name": "python3"
  },
  "language_info": {
   "codemirror_mode": {
    "name": "ipython",
    "version": 3
   },
   "file_extension": ".py",
   "mimetype": "text/x-python",
   "name": "python",
   "nbconvert_exporter": "python",
   "pygments_lexer": "ipython3",
   "version": "3.7.6"
  }
 },
 "nbformat": 4,
 "nbformat_minor": 4
}
