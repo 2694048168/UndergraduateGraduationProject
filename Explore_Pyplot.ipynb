{
 "cells": [
  {
   "cell_type": "code",
   "execution_count": 6,
   "metadata": {},
   "outputs": [],
   "source": [
    "# 导入模块和包\n",
    "import numpy as np\n",
    "import scipy.io as sio\n",
    "import scipy\n",
    "import matplotlib.pyplot as plt\n",
    "\n",
    "%matplotlib inline"
   ]
  },
  {
   "cell_type": "code",
   "execution_count": 7,
   "metadata": {},
   "outputs": [],
   "source": [
    "# 设置图片位置\n",
    "image_path = \"./images\"\n",
    "\n",
    "# 设置数据位置\n",
    "data_path = \"./dataset/ml-25m/\"\n",
    "\n",
    "# 加载原始评分数据和预测评分数据\n",
    "user_item_score = sio.mmread(data_path + \"user_item_score\")\n",
    "R = scipy.sparse.csc_matrix.todense(user_item_score)\n",
    "\n",
    "pred_R = sio.mmread(data_path + \"pred_R\")\n"
   ]
  },
  {
   "cell_type": "code",
   "execution_count": 8,
   "metadata": {},
   "outputs": [
    {
     "name": "stdout",
     "output_type": "stream",
     "text": [
      "[[2.  0.  0.  ... 0.  0.  0. ]\n",
      " [0.  5.  0.  ... 0.  0.  0. ]\n",
      " [0.  0.  3.5 ... 0.  0.  0. ]\n",
      " ...\n",
      " [0.  0.  0.  ... 0.  0.  0. ]\n",
      " [0.  0.  0.  ... 0.  0.  0. ]\n",
      " [0.  0.  0.  ... 0.  0.  0. ]]\n",
      "[[3.23409759 3.57396595 2.20319403 ... 3.4952943  2.95463192 3.62277943]\n",
      " [2.69861046 3.34606225 1.61229123 ... 3.32577077 2.31390298 2.61656377]\n",
      " [3.41951007 3.68362418 2.07386574 ... 3.82444454 2.88866793 3.45153533]\n",
      " ...\n",
      " [2.60300694 2.71026493 1.42846608 ... 3.01949133 2.03710523 2.49860564]\n",
      " [2.58765039 3.20752425 1.65419813 ... 3.02549974 2.35840766 2.53001137]\n",
      " [2.61242354 2.95880541 1.50926895 ... 3.11253263 2.00272608 2.72000283]]\n"
     ]
    }
   ],
   "source": [
    "# 查看原始评分矩阵\n",
    "print(R)\n",
    "\n",
    "# 查看预测评分矩阵\n",
    "print(pred_R)"
   ]
  },
  {
   "cell_type": "code",
   "execution_count": 9,
   "metadata": {},
   "outputs": [
    {
     "data": {
      "text/plain": [
       "matrix([[2. , 0. , 0. , ..., 0. , 0. , 0. ],\n",
       "        [0. , 5. , 0. , ..., 0. , 0. , 0. ],\n",
       "        [0. , 0. , 3.5, ..., 0. , 0. , 0. ],\n",
       "        ...,\n",
       "        [0. , 0. , 0. , ..., 0. , 0. , 0. ],\n",
       "        [0. , 0. , 0. , ..., 0. , 0. , 0. ],\n",
       "        [0. , 0. , 0. , ..., 0. , 0. , 0. ]])"
      ]
     },
     "execution_count": 9,
     "metadata": {},
     "output_type": "execute_result"
    }
   ],
   "source": [
    "R"
   ]
  },
  {
   "cell_type": "code",
   "execution_count": null,
   "metadata": {},
   "outputs": [],
   "source": []
  }
 ],
 "metadata": {
  "kernelspec": {
   "display_name": "Python 3",
   "language": "python",
   "name": "python3"
  },
  "language_info": {
   "codemirror_mode": {
    "name": "ipython",
    "version": 3
   },
   "file_extension": ".py",
   "mimetype": "text/x-python",
   "name": "python",
   "nbconvert_exporter": "python",
   "pygments_lexer": "ipython3",
   "version": "3.7.6"
  }
 },
 "nbformat": 4,
 "nbformat_minor": 4
}
