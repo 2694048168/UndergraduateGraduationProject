{
 "cells": [
  {
   "cell_type": "code",
   "execution_count": 1,
   "metadata": {},
   "outputs": [],
   "source": [
    "# 模块和包都是在逐步的探索中所需要的，全部汇总到这里，\n",
    "#    并不是一开始就知道了 ^_^ ^_^ ^_^ \n",
    "# 不熟悉的模块和包，强烈建议查看官方文档说明以及例子\n",
    "# 1、导入模块和包\n",
    "import pandas as pd    # 加载并处理csv文件\n",
    "import datetime        # 利用datetime处理时间戳\n",
    "# cPickle 数据以二进制进行高效的储存到文件\n",
    "import _pickle as cPickle \n",
    "# defaultdict 设置稀疏矩阵的 NULL 位置的默认值\n",
    "from collections import defaultdict \n",
    "# 利用scipy sparse 构建稀疏矩阵\n",
    "import scipy.sparse as ss     \n",
    "import scipy.io as sio    # 利用scipy储存评分矩阵\n",
    "# 利用numpy创建指定长度或形状的矩阵以及矩阵运算\n",
    "import numpy as np \n",
    "# numpy.random中的randn函数生成正态分布的随机数据\n",
    "from numpy.random import random    \n",
    "import time    # 计算训练时迭代的时间\n",
    "import json    # 将模型参数保存和加载 json文件\n",
    "import scipy    # 将储存加载的稀疏评分矩阵转换为numpy矩阵"
   ]
  },
  {
   "cell_type": "code",
   "execution_count": 3,
   "metadata": {},
   "outputs": [
    {
     "name": "stdout",
     "output_type": "stream",
     "text": [
      "the number of user: 1511\n",
      "the number of movie: 1919\n"
     ]
    }
   ],
   "source": [
    "# 3、数据处理——构建评分矩阵\n",
    "# 加载训练集数据\n",
    "data_path = \"./../dataset/BX-CSV-Dump/\"\n",
    "train = pd.read_csv(data_path + \"train.csv\", sep = \",\", nrows = 2000)\n",
    "# 计算用户数量和电影数量\n",
    "unique_user = train['User-ID'].unique()\n",
    "unique_item = train['ISBN'].unique()\n",
    "user_num = unique_user.shape[0]\n",
    "item_num = unique_item.shape[0]\n",
    "print(\"the number of user:\",user_num)\n",
    "print(\"the number of movie:\",item_num)"
   ]
  },
  {
   "cell_type": "code",
   "execution_count": 4,
   "metadata": {},
   "outputs": [],
   "source": [
    "# 建立用户和物品的索引表\n",
    "# 下面的代码更通用，可对任意编码的用户和物品重新索引\n",
    "user_index = dict()    # 使用字典索引 保存用户索引\n",
    "item_index = dict()    # 保存电影索引\n",
    "\n",
    "for index, user in enumerate(unique_user):\n",
    "    user_index[user] = index\n",
    "    \n",
    "# 重新编码活动索引字典  \n",
    "# 序列函数，Python有一些有用的序列函数。\n",
    "# =================================================\n",
    "# enumerate函数，迭代一个序列时， 可以跟踪当前项的序号\n",
    "# Python内建 enumerate 函数，返回(i, value)元组序列\n",
    "# 当你索引数据时， 使用 enumerate 的一个好方法\n",
    "#    就是计算序列（唯一的） dict 映射到位置的值。\n",
    "\n",
    "# 重新编码活动索引字典 \n",
    "for index, item in enumerate(unique_item):\n",
    "    item_index[item] = index\n",
    "    \n",
    "# 保存重新索引的用户索引表\n",
    "cPickle.dump(user_index, open(data_path + \"user_index.pkl\", 'wb'))\n",
    "# 保存重新索引的电影索引表\n",
    "cPickle.dump(item_index, open(data_path + \"item_index.pkl\", 'wb'))"
   ]
  },
  {
   "cell_type": "code",
   "execution_count": 5,
   "metadata": {},
   "outputs": [],
   "source": [
    "# 关于设定值， 常见的是在字典的值是属于其它集合，如列表\n",
    "# collections 模块有一个很有用的类， \n",
    "# defaultdict 可以传递类型或函数以生成每个位置的默认值\n",
    "# setdefault 方法就正是干这个的,这两个有着异曲同工之妙\n",
    "\n",
    "# 倒排表\n",
    "# 统计每个用户打过分的电影 / 每个电影被哪些用户打过分\n",
    "user_items = defaultdict(set)\n",
    "item_users = defaultdict(set)\n",
    "\n",
    "# 用户-物品关系矩阵R, 稀疏矩阵，记录用户对每个电影的打分\n",
    "# user_num —代表m行，item_num —代表n列，构建 m*n 矩阵\n",
    "user_item_score = ss.dok_matrix((user_num, item_num))\n",
    "\n",
    "# 扫描数据，进行记录\n",
    "# train.index > RangeIndex(start=0,stop=10000,step=1)\n",
    "for row in train.index:    \n",
    "    # 获取数据的字段属性\n",
    "    row_info = train.iloc[row]    \n",
    "    user_id = row_info[\"User-ID\"]\n",
    "    item_id = row_info[\"ISBN\"]\n",
    "    rating = row_info[\"Book-Rating\"]\n",
    "    \n",
    "    # 当前用户索引，利用重新索引表\n",
    "    current_user_index = user_index[user_id]\n",
    "    # 当前电影索引，利用重新索引表\n",
    "    current_item_index = item_index[item_id]\n",
    "    \n",
    "    # 倒排表\n",
    "    # 该用户对这个电影进行了打分\n",
    "    user_items[current_user_index].add(current_item_index)\n",
    "    # 该电影被该用户打分\n",
    "    item_users[current_item_index].add(current_user_index)    \n",
    "    \n",
    "    # 当前用户对当前电影的评分\n",
    "    user_item_score[current_user_index, current_item_index] = rating    \n",
    "\n",
    "\n",
    "# 保存倒排表\n",
    "# 每个用户打分的电影\n",
    "cPickle.dump(user_items, open(data_path + \"user_items.pkl\", 'wb'))\n",
    "# 对每个电影打过分的用户\n",
    "cPickle.dump(item_users, open(data_path + \"item_users.pkl\", 'wb'))\n",
    "# 保存评分矩阵，以便于后面使用\n",
    "sio.mmwrite(data_path + \"user_item_score\", user_item_score)\n"
   ]
  },
  {
   "cell_type": "code",
   "execution_count": null,
   "metadata": {},
   "outputs": [],
   "source": []
  }
 ],
 "metadata": {
  "kernelspec": {
   "display_name": "Python 3",
   "language": "python",
   "name": "python3"
  },
  "language_info": {
   "codemirror_mode": {
    "name": "ipython",
    "version": 3
   },
   "file_extension": ".py",
   "mimetype": "text/x-python",
   "name": "python",
   "nbconvert_exporter": "python",
   "pygments_lexer": "ipython3",
   "version": "3.7.6"
  }
 },
 "nbformat": 4,
 "nbformat_minor": 4
}
