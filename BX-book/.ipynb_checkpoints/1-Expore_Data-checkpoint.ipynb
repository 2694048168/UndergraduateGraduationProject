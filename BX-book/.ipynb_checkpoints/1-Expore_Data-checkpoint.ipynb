{
 "cells": [
  {
   "cell_type": "code",
   "execution_count": 1,
   "metadata": {},
   "outputs": [],
   "source": [
    "# 模块和包都是在逐步的探索中所需要的，全部汇总到这里，\n",
    "#    并不是一开始就知道了 ^_^ ^_^ ^_^ \n",
    "# 不熟悉的模块和包，强烈建议查看官方文档说明以及例子\n",
    "# 1、导入模块和包\n",
    "import pandas as pd    # 加载并处理csv文件\n",
    "import datetime        # 利用datetime处理时间戳\n",
    "# cPickle 数据以二进制进行高效的储存到文件\n",
    "import _pickle as cPickle \n",
    "# defaultdict 设置稀疏矩阵的 NULL 位置的默认值\n",
    "from collections import defaultdict \n",
    "# 利用scipy sparse 构建稀疏矩阵\n",
    "import scipy.sparse as ss     \n",
    "import scipy.io as sio    # 利用scipy储存评分矩阵\n",
    "# 利用numpy创建指定长度或形状的矩阵以及矩阵运算\n",
    "import numpy as np \n",
    "# numpy.random中的randn函数生成正态分布的随机数据\n",
    "from numpy.random import random    \n",
    "import time    # 计算训练时迭代的时间\n",
    "import json    # 将模型参数保存和加载 json文件\n",
    "import scipy    # 将储存加载的稀疏评分矩阵转换为numpy矩阵"
   ]
  },
  {
   "cell_type": "code",
   "execution_count": 2,
   "metadata": {},
   "outputs": [],
   "source": [
    "# 2、加载数据集\n",
    "# 设置数据储存位置\n",
    "data_path = \"./../dataset/BX-CSV-Dump/\"\n",
    "# pandas读取文件ratings.csv(两千五百多万行数据)\n",
    "csv_file = pd.read_csv(data_path + \"BX-Book-Ratings.csv\", sep = \";\", encoding = \"ISO-8859-1\")\n"
   ]
  },
  {
   "cell_type": "code",
   "execution_count": 3,
   "metadata": {},
   "outputs": [
    {
     "data": {
      "text/plain": [
       "(1149780, 3)"
      ]
     },
     "execution_count": 3,
     "metadata": {},
     "output_type": "execute_result"
    }
   ],
   "source": [
    "# 查看数据维度（行，列）\n",
    "csv_file.shape"
   ]
  },
  {
   "cell_type": "code",
   "execution_count": 4,
   "metadata": {},
   "outputs": [
    {
     "name": "stdout",
     "output_type": "stream",
     "text": [
      "(229956, 4)\n",
      "(919824, 4)\n"
     ]
    },
    {
     "data": {
      "text/html": [
       "<div>\n",
       "<style scoped>\n",
       "    .dataframe tbody tr th:only-of-type {\n",
       "        vertical-align: middle;\n",
       "    }\n",
       "\n",
       "    .dataframe tbody tr th {\n",
       "        vertical-align: top;\n",
       "    }\n",
       "\n",
       "    .dataframe thead th {\n",
       "        text-align: right;\n",
       "    }\n",
       "</style>\n",
       "<table border=\"1\" class=\"dataframe\">\n",
       "  <thead>\n",
       "    <tr style=\"text-align: right;\">\n",
       "      <th></th>\n",
       "      <th>User-ID</th>\n",
       "      <th>ISBN</th>\n",
       "      <th>Book-Rating</th>\n",
       "      <th>split_index</th>\n",
       "    </tr>\n",
       "  </thead>\n",
       "  <tbody>\n",
       "    <tr>\n",
       "      <th>494695</th>\n",
       "      <td>118677</td>\n",
       "      <td>0142000205</td>\n",
       "      <td>10</td>\n",
       "      <td>0</td>\n",
       "    </tr>\n",
       "    <tr>\n",
       "      <th>7331</th>\n",
       "      <td>278418</td>\n",
       "      <td>0590483013</td>\n",
       "      <td>0</td>\n",
       "      <td>0</td>\n",
       "    </tr>\n",
       "    <tr>\n",
       "      <th>756004</th>\n",
       "      <td>182987</td>\n",
       "      <td>3100482298</td>\n",
       "      <td>0</td>\n",
       "      <td>0</td>\n",
       "    </tr>\n",
       "    <tr>\n",
       "      <th>18293</th>\n",
       "      <td>3363</td>\n",
       "      <td>0452282934</td>\n",
       "      <td>0</td>\n",
       "      <td>0</td>\n",
       "    </tr>\n",
       "    <tr>\n",
       "      <th>666087</th>\n",
       "      <td>161974</td>\n",
       "      <td>0312955901</td>\n",
       "      <td>6</td>\n",
       "      <td>0</td>\n",
       "    </tr>\n",
       "  </tbody>\n",
       "</table>\n",
       "</div>"
      ],
      "text/plain": [
       "        User-ID        ISBN  Book-Rating  split_index\n",
       "494695   118677  0142000205           10            0\n",
       "7331     278418  0590483013            0            0\n",
       "756004   182987  3100482298            0            0\n",
       "18293      3363  0452282934            0            0\n",
       "666087   161974  0312955901            6            0"
      ]
     },
     "execution_count": 4,
     "metadata": {},
     "output_type": "execute_result"
    }
   ],
   "source": [
    "# 数据集划分训练集和测试集\n",
    "# =================================================\n",
    "# Ture 为打乱数据集进行划分，False为不打乱数据集划分\n",
    "def random_split (df, ratios, shuffle = True):\n",
    "    \n",
    "# Function to split DataFrame into train and test\n",
    "#\n",
    "# Params:     \n",
    "#  df (pd.DataFrame): Pandas data frame to be split.\n",
    "#  ratios (list of floats): list of ratios for split. \n",
    "#  The ratios have to sum to 1.\n",
    "#\n",
    "# Returns: \n",
    "#  list: List of pd.DataFrame split \n",
    "#          by the given specifications.\n",
    "# ###################################################  \n",
    "    \n",
    "    seed = 42                  # Set random seed\n",
    "    if shuffle == True:\n",
    "        df = df.sample(frac=1)     # Shuffle the data\n",
    "    samples = df.shape[0]      # Number of samples\n",
    "    \n",
    "    # Converts [0.7, 0.2, 0.1] to [0.7, 0.9]\n",
    "    split_ratio = np.cumsum(ratios).tolist()[:-1] \n",
    "    \n",
    "    # Get the rounded integer split index\n",
    "    split_index = [round(x * samples) for x in split_ratio]\n",
    "    \n",
    "    # split the data\n",
    "    splits = np.split(df, split_index)\n",
    "    \n",
    "    # Add split index \n",
    "    # (this makes splitting by group more efficient).\n",
    "    for i in range(len(ratios)):\n",
    "        splits[i][\"split_index\"] = i\n",
    "\n",
    "    return splits\n",
    "\n",
    "# 划分数据集\n",
    "# train,validation,test = random_split()\n",
    "train, test = random_split(csv_file, [0.8, 0.2])\n",
    "\n",
    "# 保存数据集为训练集和测试集\n",
    "# 利用pandas的 DataFrame的to_csv方法\n",
    "train.to_csv(data_path + \"train.csv\")\n",
    "test.to_csv(data_path + \"test.csv\")\n",
    "\n",
    "print(test.shape)\n",
    "print(train.shape)\n",
    "train.tail()"
   ]
  },
  {
   "cell_type": "code",
   "execution_count": 5,
   "metadata": {},
   "outputs": [
    {
     "data": {
      "text/html": [
       "<div>\n",
       "<style scoped>\n",
       "    .dataframe tbody tr th:only-of-type {\n",
       "        vertical-align: middle;\n",
       "    }\n",
       "\n",
       "    .dataframe tbody tr th {\n",
       "        vertical-align: top;\n",
       "    }\n",
       "\n",
       "    .dataframe thead th {\n",
       "        text-align: right;\n",
       "    }\n",
       "</style>\n",
       "<table border=\"1\" class=\"dataframe\">\n",
       "  <thead>\n",
       "    <tr style=\"text-align: right;\">\n",
       "      <th></th>\n",
       "      <th>User-ID</th>\n",
       "      <th>ISBN</th>\n",
       "      <th>Book-Rating</th>\n",
       "      <th>split_index</th>\n",
       "    </tr>\n",
       "  </thead>\n",
       "  <tbody>\n",
       "    <tr>\n",
       "      <th>1071951</th>\n",
       "      <td>256222</td>\n",
       "      <td>0871136112</td>\n",
       "      <td>0</td>\n",
       "      <td>1</td>\n",
       "    </tr>\n",
       "    <tr>\n",
       "      <th>15838</th>\n",
       "      <td>2442</td>\n",
       "      <td>8831508407</td>\n",
       "      <td>0</td>\n",
       "      <td>1</td>\n",
       "    </tr>\n",
       "    <tr>\n",
       "      <th>51492</th>\n",
       "      <td>11676</td>\n",
       "      <td>0553250531</td>\n",
       "      <td>0</td>\n",
       "      <td>1</td>\n",
       "    </tr>\n",
       "    <tr>\n",
       "      <th>650722</th>\n",
       "      <td>157273</td>\n",
       "      <td>075960715X</td>\n",
       "      <td>0</td>\n",
       "      <td>1</td>\n",
       "    </tr>\n",
       "    <tr>\n",
       "      <th>368222</th>\n",
       "      <td>88605</td>\n",
       "      <td>0061097861</td>\n",
       "      <td>8</td>\n",
       "      <td>1</td>\n",
       "    </tr>\n",
       "  </tbody>\n",
       "</table>\n",
       "</div>"
      ],
      "text/plain": [
       "         User-ID        ISBN  Book-Rating  split_index\n",
       "1071951   256222  0871136112            0            1\n",
       "15838       2442  8831508407            0            1\n",
       "51492      11676  0553250531            0            1\n",
       "650722    157273  075960715X            0            1\n",
       "368222     88605  0061097861            8            1"
      ]
     },
     "execution_count": 5,
     "metadata": {},
     "output_type": "execute_result"
    }
   ],
   "source": [
    "test.head()"
   ]
  },
  {
   "cell_type": "code",
   "execution_count": null,
   "metadata": {},
   "outputs": [],
   "source": []
  }
 ],
 "metadata": {
  "kernelspec": {
   "display_name": "Python 3",
   "language": "python",
   "name": "python3"
  },
  "language_info": {
   "codemirror_mode": {
    "name": "ipython",
    "version": 3
   },
   "file_extension": ".py",
   "mimetype": "text/x-python",
   "name": "python",
   "nbconvert_exporter": "python",
   "pygments_lexer": "ipython3",
   "version": "3.7.6"
  }
 },
 "nbformat": 4,
 "nbformat_minor": 4
}
