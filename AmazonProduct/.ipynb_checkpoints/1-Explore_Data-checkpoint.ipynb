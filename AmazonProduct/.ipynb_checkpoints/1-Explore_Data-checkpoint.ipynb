{
 "cells": [
  {
   "cell_type": "code",
   "execution_count": 1,
   "metadata": {},
   "outputs": [],
   "source": [
    "# 这些模块和包都是在逐步的探索中所需要的，然后全部汇总到这里，\n",
    "#    并不是一开始就知道了 ^_^ ^_^ ^_^\n",
    "# 1、导入模块和包\n",
    "import pandas as pd    # 加载并处理csv文件\n",
    "import datetime        # 利用datetime处理时间戳\n",
    "import _pickle as cPickle    # 数据以二进制进行高效的储存到文件\n",
    "from collections import defaultdict     # 利用Python设置稀疏矩阵的NULL位置的默认值\n",
    "import scipy.sparse as ss     # 利用scipy构建稀疏矩阵\n",
    "import scipy.io as sio    # 利用scipy储存评分矩阵\n",
    "import numpy as np    # 利用numpy创建指定长度或形状的矩阵以及矩阵运算\n",
    "from numpy.random import random    # numpy.random中的randn函数生成一些正态分布的随机数据\n",
    "import time    # 利用Python内置模块，计算训练时迭代的时间\n",
    "import json    # 将模型参数保存为json文件，加载模型参数json文件\n",
    "import scipy    # 将储存加载的稀疏评分矩阵转换为numpy矩阵形式"
   ]
  },
  {
   "cell_type": "code",
   "execution_count": 8,
   "metadata": {},
   "outputs": [
    {
     "data": {
      "text/html": [
       "<div>\n",
       "<style scoped>\n",
       "    .dataframe tbody tr th:only-of-type {\n",
       "        vertical-align: middle;\n",
       "    }\n",
       "\n",
       "    .dataframe tbody tr th {\n",
       "        vertical-align: top;\n",
       "    }\n",
       "\n",
       "    .dataframe thead th {\n",
       "        text-align: right;\n",
       "    }\n",
       "</style>\n",
       "<table border=\"1\" class=\"dataframe\">\n",
       "  <thead>\n",
       "    <tr style=\"text-align: right;\">\n",
       "      <th></th>\n",
       "      <th>UserId</th>\n",
       "      <th>ProductId</th>\n",
       "      <th>Rating</th>\n",
       "      <th>Timestamp</th>\n",
       "    </tr>\n",
       "  </thead>\n",
       "  <tbody>\n",
       "    <tr>\n",
       "      <th>0</th>\n",
       "      <td>A39HTATAQ9V7YF</td>\n",
       "      <td>0205616461</td>\n",
       "      <td>5.0</td>\n",
       "      <td>2013-05-28 08:00:00</td>\n",
       "    </tr>\n",
       "    <tr>\n",
       "      <th>1</th>\n",
       "      <td>A3JM6GV9MNOF9X</td>\n",
       "      <td>0558925278</td>\n",
       "      <td>3.0</td>\n",
       "      <td>2012-12-14 08:00:00</td>\n",
       "    </tr>\n",
       "    <tr>\n",
       "      <th>2</th>\n",
       "      <td>A1Z513UWSAAO0F</td>\n",
       "      <td>0558925278</td>\n",
       "      <td>5.0</td>\n",
       "      <td>2014-07-07 08:00:00</td>\n",
       "    </tr>\n",
       "    <tr>\n",
       "      <th>3</th>\n",
       "      <td>A1WMRR494NWEWV</td>\n",
       "      <td>0733001998</td>\n",
       "      <td>4.0</td>\n",
       "      <td>2013-10-24 08:00:00</td>\n",
       "    </tr>\n",
       "    <tr>\n",
       "      <th>4</th>\n",
       "      <td>A3IAAVS479H7M7</td>\n",
       "      <td>0737104473</td>\n",
       "      <td>1.0</td>\n",
       "      <td>2010-05-19 08:00:00</td>\n",
       "    </tr>\n",
       "  </tbody>\n",
       "</table>\n",
       "</div>"
      ],
      "text/plain": [
       "           UserId   ProductId  Rating           Timestamp\n",
       "0  A39HTATAQ9V7YF  0205616461     5.0 2013-05-28 08:00:00\n",
       "1  A3JM6GV9MNOF9X  0558925278     3.0 2012-12-14 08:00:00\n",
       "2  A1Z513UWSAAO0F  0558925278     5.0 2014-07-07 08:00:00\n",
       "3  A1WMRR494NWEWV  0733001998     4.0 2013-10-24 08:00:00\n",
       "4  A3IAAVS479H7M7  0737104473     1.0 2010-05-19 08:00:00"
      ]
     },
     "execution_count": 8,
     "metadata": {},
     "output_type": "execute_result"
    }
   ],
   "source": [
    "# 2、加载数据集\n",
    "\n",
    "# 设置数据储存位置\n",
    "data_path = \"./../dataset/amazon-ratings/\"\n",
    "\n",
    "# pandas读取文件\n",
    "csv_file = pd.read_csv(data_path + \"ratings_Beauty.csv\", sep = \",\", nrows = 2000)\n",
    "# 将时间戳转换\n",
    "csv_file[\"Timestamp\"] = csv_file[\"Timestamp\"].map(datetime.datetime.fromtimestamp)\n",
    "csv_file.head()"
   ]
  },
  {
   "cell_type": "code",
   "execution_count": 9,
   "metadata": {},
   "outputs": [
    {
     "data": {
      "text/plain": [
       "(2000, 4)"
      ]
     },
     "execution_count": 9,
     "metadata": {},
     "output_type": "execute_result"
    }
   ],
   "source": [
    "# 查看数据维度（行，列）\n",
    "csv_file.shape"
   ]
  },
  {
   "cell_type": "code",
   "execution_count": 10,
   "metadata": {},
   "outputs": [
    {
     "data": {
      "text/plain": [
       "(2000, 3)"
      ]
     },
     "execution_count": 10,
     "metadata": {},
     "output_type": "execute_result"
    }
   ],
   "source": [
    "# 将时间戳这个字段属性删除\n",
    "csv_file = csv_file.drop(['Timestamp'], axis=1)\n",
    "\n",
    "# 查看数据维度（行，列）\n",
    "csv_file.shape"
   ]
  },
  {
   "cell_type": "code",
   "execution_count": 11,
   "metadata": {},
   "outputs": [
    {
     "data": {
      "text/html": [
       "<div>\n",
       "<style scoped>\n",
       "    .dataframe tbody tr th:only-of-type {\n",
       "        vertical-align: middle;\n",
       "    }\n",
       "\n",
       "    .dataframe tbody tr th {\n",
       "        vertical-align: top;\n",
       "    }\n",
       "\n",
       "    .dataframe thead th {\n",
       "        text-align: right;\n",
       "    }\n",
       "</style>\n",
       "<table border=\"1\" class=\"dataframe\">\n",
       "  <thead>\n",
       "    <tr style=\"text-align: right;\">\n",
       "      <th></th>\n",
       "      <th>UserId</th>\n",
       "      <th>ProductId</th>\n",
       "      <th>Rating</th>\n",
       "    </tr>\n",
       "  </thead>\n",
       "  <tbody>\n",
       "    <tr>\n",
       "      <th>1995</th>\n",
       "      <td>AFZZT3IKY35IW</td>\n",
       "      <td>9790798326</td>\n",
       "      <td>5.0</td>\n",
       "    </tr>\n",
       "    <tr>\n",
       "      <th>1996</th>\n",
       "      <td>A2PH5VIDM6F7W5</td>\n",
       "      <td>9790798326</td>\n",
       "      <td>1.0</td>\n",
       "    </tr>\n",
       "    <tr>\n",
       "      <th>1997</th>\n",
       "      <td>ADFW3FGCFI7C7</td>\n",
       "      <td>9790798326</td>\n",
       "      <td>5.0</td>\n",
       "    </tr>\n",
       "    <tr>\n",
       "      <th>1998</th>\n",
       "      <td>A86GTS35R5YGG</td>\n",
       "      <td>9790798326</td>\n",
       "      <td>5.0</td>\n",
       "    </tr>\n",
       "    <tr>\n",
       "      <th>1999</th>\n",
       "      <td>A27ZTNAOOODGSZ</td>\n",
       "      <td>9790798393</td>\n",
       "      <td>5.0</td>\n",
       "    </tr>\n",
       "  </tbody>\n",
       "</table>\n",
       "</div>"
      ],
      "text/plain": [
       "              UserId   ProductId  Rating\n",
       "1995   AFZZT3IKY35IW  9790798326     5.0\n",
       "1996  A2PH5VIDM6F7W5  9790798326     1.0\n",
       "1997   ADFW3FGCFI7C7  9790798326     5.0\n",
       "1998   A86GTS35R5YGG  9790798326     5.0\n",
       "1999  A27ZTNAOOODGSZ  9790798393     5.0"
      ]
     },
     "execution_count": 11,
     "metadata": {},
     "output_type": "execute_result"
    }
   ],
   "source": [
    "csv_file.tail()"
   ]
  },
  {
   "cell_type": "code",
   "execution_count": 12,
   "metadata": {},
   "outputs": [
    {
     "name": "stdout",
     "output_type": "stream",
     "text": [
      "(400, 4)\n",
      "(1600, 4)\n"
     ]
    },
    {
     "data": {
      "text/html": [
       "<div>\n",
       "<style scoped>\n",
       "    .dataframe tbody tr th:only-of-type {\n",
       "        vertical-align: middle;\n",
       "    }\n",
       "\n",
       "    .dataframe tbody tr th {\n",
       "        vertical-align: top;\n",
       "    }\n",
       "\n",
       "    .dataframe thead th {\n",
       "        text-align: right;\n",
       "    }\n",
       "</style>\n",
       "<table border=\"1\" class=\"dataframe\">\n",
       "  <thead>\n",
       "    <tr style=\"text-align: right;\">\n",
       "      <th></th>\n",
       "      <th>UserId</th>\n",
       "      <th>ProductId</th>\n",
       "      <th>Rating</th>\n",
       "      <th>split_index</th>\n",
       "    </tr>\n",
       "  </thead>\n",
       "  <tbody>\n",
       "    <tr>\n",
       "      <th>1830</th>\n",
       "      <td>A1IYOZVSPKNPFK</td>\n",
       "      <td>9790792557</td>\n",
       "      <td>5.0</td>\n",
       "      <td>0</td>\n",
       "    </tr>\n",
       "    <tr>\n",
       "      <th>1370</th>\n",
       "      <td>ACRO15EXJ3BL8</td>\n",
       "      <td>979078127X</td>\n",
       "      <td>5.0</td>\n",
       "      <td>0</td>\n",
       "    </tr>\n",
       "    <tr>\n",
       "      <th>792</th>\n",
       "      <td>A2CPYXQY7MN36Q</td>\n",
       "      <td>9788072216</td>\n",
       "      <td>5.0</td>\n",
       "      <td>0</td>\n",
       "    </tr>\n",
       "    <tr>\n",
       "      <th>605</th>\n",
       "      <td>A1O2WUVJ9OKUTO</td>\n",
       "      <td>9759091062</td>\n",
       "      <td>5.0</td>\n",
       "      <td>0</td>\n",
       "    </tr>\n",
       "    <tr>\n",
       "      <th>1182</th>\n",
       "      <td>A26THXR69AC6VO</td>\n",
       "      <td>9790776381</td>\n",
       "      <td>1.0</td>\n",
       "      <td>0</td>\n",
       "    </tr>\n",
       "  </tbody>\n",
       "</table>\n",
       "</div>"
      ],
      "text/plain": [
       "              UserId   ProductId  Rating  split_index\n",
       "1830  A1IYOZVSPKNPFK  9790792557     5.0            0\n",
       "1370   ACRO15EXJ3BL8  979078127X     5.0            0\n",
       "792   A2CPYXQY7MN36Q  9788072216     5.0            0\n",
       "605   A1O2WUVJ9OKUTO  9759091062     5.0            0\n",
       "1182  A26THXR69AC6VO  9790776381     1.0            0"
      ]
     },
     "execution_count": 12,
     "metadata": {},
     "output_type": "execute_result"
    }
   ],
   "source": [
    "# 数据集划分训练集和测试集\n",
    "\n",
    "# shuffle = True ：Ture 为打乱数据集进行划分，False为不打乱数据集划分\n",
    "def random_split (df, ratios, shuffle = True):\n",
    "    \n",
    "    # Function to split pandas DataFrame into train, validation and test\n",
    "    #\n",
    "    # Params:     \n",
    "    #    df (pd.DataFrame): Pandas data frame to be split.\n",
    "    #    ratios (list of floats): list of ratios for split. The ratios have to sum to 1.\n",
    "    #\n",
    "    # Returns: \n",
    "    #    list: List of pd.DataFrame split by the given specifications.\n",
    "    # ###################################################################################   \n",
    "    \n",
    "    seed = 42                  # Set random seed\n",
    "    if shuffle == True:\n",
    "        df = df.sample(frac=1)     # Shuffle the data\n",
    "    samples = df.shape[0]      # Number of samples\n",
    "    \n",
    "    # Converts [0.7, 0.2, 0.1] to [0.7, 0.9]\n",
    "    split_ratio = np.cumsum(ratios).tolist()[:-1] # Get split index\n",
    "    \n",
    "    # Get the rounded integer split index\n",
    "    split_index = [round(x * samples) for x in split_ratio]\n",
    "    \n",
    "    # split the data\n",
    "    splits = np.split(df, split_index)\n",
    "    \n",
    "    # Add split index (this makes splitting by group more efficient).\n",
    "    for i in range(len(ratios)):\n",
    "        splits[i][\"split_index\"] = i\n",
    "\n",
    "    return splits\n",
    "\n",
    "# 划分数据集\n",
    "train, test = random_split(csv_file, [0.8, 0.2])\n",
    "\n",
    "# 保存数据集为训练集和测试集\n",
    "# 利用pandas的 DataFrame的to_csv方法，将数据写到一个以逗号分隔的文件中\n",
    "train.to_csv(data_path + \"train.csv\")\n",
    "test.to_csv(data_path + \"test.csv\")\n",
    "\n",
    "print(test.shape)\n",
    "print(train.shape)\n",
    "train.tail()"
   ]
  },
  {
   "cell_type": "code",
   "execution_count": 13,
   "metadata": {},
   "outputs": [
    {
     "data": {
      "text/html": [
       "<div>\n",
       "<style scoped>\n",
       "    .dataframe tbody tr th:only-of-type {\n",
       "        vertical-align: middle;\n",
       "    }\n",
       "\n",
       "    .dataframe tbody tr th {\n",
       "        vertical-align: top;\n",
       "    }\n",
       "\n",
       "    .dataframe thead th {\n",
       "        text-align: right;\n",
       "    }\n",
       "</style>\n",
       "<table border=\"1\" class=\"dataframe\">\n",
       "  <thead>\n",
       "    <tr style=\"text-align: right;\">\n",
       "      <th></th>\n",
       "      <th>UserId</th>\n",
       "      <th>ProductId</th>\n",
       "      <th>Rating</th>\n",
       "      <th>split_index</th>\n",
       "    </tr>\n",
       "  </thead>\n",
       "  <tbody>\n",
       "    <tr>\n",
       "      <th>1971</th>\n",
       "      <td>A3DCX3T7X7TXUL</td>\n",
       "      <td>9790798075</td>\n",
       "      <td>5.0</td>\n",
       "      <td>1</td>\n",
       "    </tr>\n",
       "    <tr>\n",
       "      <th>940</th>\n",
       "      <td>A12712009FURQ7</td>\n",
       "      <td>9788073883</td>\n",
       "      <td>5.0</td>\n",
       "      <td>1</td>\n",
       "    </tr>\n",
       "    <tr>\n",
       "      <th>1443</th>\n",
       "      <td>A3MGHPFOC5P3EM</td>\n",
       "      <td>9790782365</td>\n",
       "      <td>5.0</td>\n",
       "      <td>1</td>\n",
       "    </tr>\n",
       "    <tr>\n",
       "      <th>445</th>\n",
       "      <td>ATZVCICY66PXZ</td>\n",
       "      <td>9571044822</td>\n",
       "      <td>5.0</td>\n",
       "      <td>1</td>\n",
       "    </tr>\n",
       "    <tr>\n",
       "      <th>1333</th>\n",
       "      <td>A2KKJXOD3PWGIA</td>\n",
       "      <td>9790780001</td>\n",
       "      <td>5.0</td>\n",
       "      <td>1</td>\n",
       "    </tr>\n",
       "  </tbody>\n",
       "</table>\n",
       "</div>"
      ],
      "text/plain": [
       "              UserId   ProductId  Rating  split_index\n",
       "1971  A3DCX3T7X7TXUL  9790798075     5.0            1\n",
       "940   A12712009FURQ7  9788073883     5.0            1\n",
       "1443  A3MGHPFOC5P3EM  9790782365     5.0            1\n",
       "445    ATZVCICY66PXZ  9571044822     5.0            1\n",
       "1333  A2KKJXOD3PWGIA  9790780001     5.0            1"
      ]
     },
     "execution_count": 13,
     "metadata": {},
     "output_type": "execute_result"
    }
   ],
   "source": [
    "test.head()"
   ]
  },
  {
   "cell_type": "code",
   "execution_count": null,
   "metadata": {},
   "outputs": [],
   "source": []
  }
 ],
 "metadata": {
  "kernelspec": {
   "display_name": "Python 3",
   "language": "python",
   "name": "python3"
  },
  "language_info": {
   "codemirror_mode": {
    "name": "ipython",
    "version": 3
   },
   "file_extension": ".py",
   "mimetype": "text/x-python",
   "name": "python",
   "nbconvert_exporter": "python",
   "pygments_lexer": "ipython3",
   "version": "3.7.6"
  }
 },
 "nbformat": 4,
 "nbformat_minor": 4
}
