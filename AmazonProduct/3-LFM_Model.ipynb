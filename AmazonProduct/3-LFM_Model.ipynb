{
 "cells": [
  {
   "cell_type": "code",
   "execution_count": 1,
   "metadata": {},
   "outputs": [],
   "source": [
    "# 这些模块和包都是在逐步的探索中所需要的，然后全部汇总到这里，\n",
    "#    并不是一开始就知道了 ^_^ ^_^ ^_^\n",
    "# 1、导入模块和包\n",
    "import pandas as pd    # 加载并处理csv文件\n",
    "import datetime        # 利用datetime处理时间戳\n",
    "import _pickle as cPickle    # 数据以二进制进行高效的储存到文件\n",
    "from collections import defaultdict     # 利用Python设置稀疏矩阵的NULL位置的默认值\n",
    "import scipy.sparse as ss     # 利用scipy构建稀疏矩阵\n",
    "import scipy.io as sio    # 利用scipy储存评分矩阵\n",
    "import numpy as np    # 利用numpy创建指定长度或形状的矩阵以及矩阵运算\n",
    "from numpy.random import random    # numpy.random中的randn函数生成一些正态分布的随机数据\n",
    "import time    # 利用Python内置模块，计算训练时迭代的时间\n",
    "import json    # 将模型参数保存为json文件，加载模型参数json文件\n",
    "import scipy    # 将储存加载的稀疏评分矩阵转换为numpy矩阵形式"
   ]
  },
  {
   "cell_type": "code",
   "execution_count": 50,
   "metadata": {},
   "outputs": [],
   "source": [
    "# 4.2.1、LMF模型\n",
    "\n",
    "# ##########################\n",
    "#\n",
    "# 核心算法实现\n",
    "#\n",
    "# @输入参数\n",
    "#     R —— M*N 评分矩阵\n",
    "#     k —— 隐向量的维度\n",
    "#     theta —— 迭代次数\n",
    "#     alpha —— 步长（学习率）\n",
    "#     lamda —— 正则化系数\n",
    "#\n",
    "# @输出参数\n",
    "#     分解之后的 P，Q\n",
    "#     P：初始化用户特征矩阵 M*K\n",
    "#     Q：初始化物品特征矩阵 N*K\n",
    "#\n",
    "# ##########################\n",
    "\n",
    "# 设定模型参数\n",
    "K = 20\n",
    "theta = 10\n",
    "alpha = 0.04\n",
    "lamda = 0.15\n",
    "\n",
    "# 核心算法\n",
    "def LFM_grad_desc( R, K, theta, alpha, lamda ):\n",
    "    # 基本维度参数定义\n",
    "    M = R.shape[0]\n",
    "    N = R.shape[1]\n",
    "    \n",
    "    # P,Q初始值，随机生成\n",
    "    P = np.random.rand(M, K)\n",
    "    Q = np.random.rand(N, K)\n",
    "    Q = Q.T\n",
    "    \n",
    "    # 第一次迭代时间开始\n",
    "    time_start = time.time()\n",
    "    print(\"开始进行{}个step的训练\".format(theta))\n",
    "    each_time_start = time_start\n",
    "        \n",
    "    # 开始迭代\n",
    "    for step in range(theta):\n",
    "        print('The {}-th  step is running'.format(step))\n",
    "        # 对所有的用户u、物品i做遍历，对应的特征向量Pu、Qi梯度下降\n",
    "        for u in range(M):\n",
    "            for i in range(N):\n",
    "                # 对于每一个大于0的评分，求出预测评分误差\n",
    "                if R[u, i] > 0:\n",
    "                    eui = np.dot( P[u,:], Q[:,i] ) - R[u, i]\n",
    "                    \n",
    "                    # 代入公式，按照梯度下降算法更新当前的Pu、Qi\n",
    "                    for k in range(K):\n",
    "                        P[u][k] = P[u][k] - alpha * ( 2 * eui * Q[k][i] + 2 * lamda * P[u][k] )\n",
    "                        Q[k][i] = Q[k][i] - alpha * ( 2 * eui * P[u][k] + 2 * lamda * Q[k][i] )\n",
    "        \n",
    "        # u、i遍历完成，所有特征向量更新完成，可以得到P、Q，可以计算预测评分矩阵\n",
    "        predR = np.dot( P, Q )\n",
    "        \n",
    "        # 计算当前损失函数\n",
    "        cost = 0\n",
    "        for u in range(M):\n",
    "            for i in range(N):\n",
    "                if R[u, i] > 0:\n",
    "                    cost += ( np.dot( P[u,:], Q[:,i] ) - R[u, i] ) ** 2\n",
    "                    # 加上正则化项\n",
    "                    for k in range(K):\n",
    "                        cost += lamda * ( P[u][k] ** 2 + Q[k, i] ** 2 )\n",
    "        # 学习率递减\n",
    "        alpha = alpha * 0.93\n",
    "        # 每次迭代时间结束\n",
    "        each_time_tick = time.time()\n",
    "        # 每次迭代消耗的时间\n",
    "        each_cost_time = each_time_tick - each_time_start\n",
    "        # 更新计算每次迭代的时间\n",
    "        each_time_start = each_time_tick\n",
    "\n",
    "        print(\"完成第{}个step的训练, each_cost={}, 耗时{:.4f}秒\".format( step + 1, cost, each_cost_time))\n",
    "        \n",
    "        if cost < 0.0001:\n",
    "            break\n",
    "    # 计算训练数据集消耗的总时间\n",
    "    time_end = time.time()\n",
    "    total_cost_time = time_end - time_start\n",
    "    print(\"结束了{}个step的训练，总耗时{:.4f}秒\".format(theta, total_cost_time))\n",
    "    \n",
    "    return P, Q.T, cost"
   ]
  },
  {
   "cell_type": "code",
   "execution_count": 51,
   "metadata": {},
   "outputs": [
    {
     "data": {
      "text/plain": [
       "numpy.matrix"
      ]
     },
     "execution_count": 51,
     "metadata": {},
     "output_type": "execute_result"
    }
   ],
   "source": [
    "# 加载评分矩阵\n",
    "data_path = \"./../dataset/amazon-ratings/\"\n",
    "user_item_score = sio.mmread(data_path + \"user_item_score\")\n",
    "# todense() 转换为矩阵 numpy \n",
    "R = scipy.sparse.csc_matrix.todense(user_item_score)\n",
    "type(R)"
   ]
  },
  {
   "cell_type": "code",
   "execution_count": 52,
   "metadata": {},
   "outputs": [
    {
     "name": "stdout",
     "output_type": "stream",
     "text": [
      "开始进行10个step的训练\n",
      "The 0-th  step is running\n",
      "完成第1个step的训练, each_cost=3580.136309606088, 耗时7.1254秒\n",
      "The 1-th  step is running\n",
      "完成第2个step的训练, each_cost=3046.649098478592, 耗时6.9594秒\n",
      "The 2-th  step is running\n",
      "完成第3个step的训练, each_cost=2886.7610273649984, 耗时7.0084秒\n",
      "The 3-th  step is running\n",
      "完成第4个step的训练, each_cost=2801.4821734317493, 耗时6.8974秒\n",
      "The 4-th  step is running\n",
      "完成第5个step的训练, each_cost=2745.4728568742125, 耗时6.9314秒\n",
      "The 5-th  step is running\n",
      "完成第6个step的训练, each_cost=2704.860808819116, 耗时6.9614秒\n",
      "The 6-th  step is running\n",
      "完成第7个step的训练, each_cost=2673.435193903154, 耗时7.1084秒\n",
      "The 7-th  step is running\n",
      "完成第8个step的训练, each_cost=2648.019426194088, 耗时7.1244秒\n",
      "The 8-th  step is running\n",
      "完成第9个step的训练, each_cost=2626.852875087503, 耗时6.8634秒\n",
      "The 9-th  step is running\n",
      "完成第10个step的训练, each_cost=2608.8723528627575, 耗时7.0094秒\n",
      "结束了10个step的训练，总耗时69.9890秒\n"
     ]
    }
   ],
   "source": [
    "# 开始训练 LFM 模型\n",
    "P, Q, ess = LFM_grad_desc( R, K, theta, alpha, lamda )"
   ]
  },
  {
   "cell_type": "code",
   "execution_count": 53,
   "metadata": {},
   "outputs": [],
   "source": [
    "# 通过训练的 P和 Q 计算出预测评分矩阵\n",
    "pred_R = np.dot( P, Q.T )\n",
    "\n",
    "# 将预测评分矩阵保存\n",
    "sio.mmwrite(data_path + \"pred_R\", pred_R)"
   ]
  },
  {
   "cell_type": "code",
   "execution_count": 54,
   "metadata": {},
   "outputs": [
    {
     "name": "stdout",
     "output_type": "stream",
     "text": [
      "[[5. 0. 0. ... 0. 0. 0.]\n",
      " [0. 1. 0. ... 0. 0. 0.]\n",
      " [0. 0. 5. ... 0. 0. 0.]\n",
      " ...\n",
      " [0. 0. 0. ... 0. 0. 0.]\n",
      " [0. 0. 0. ... 0. 0. 0.]\n",
      " [0. 0. 0. ... 0. 0. 0.]]\n",
      "[[4.83857931 3.73811531 4.77352667 ... 6.27202923 4.16146118 5.80847694]\n",
      " [3.04178985 1.00650255 2.69563913 ... 2.92992615 2.5458185  2.7614196 ]\n",
      " [5.23057142 4.16376098 4.85434267 ... 5.86524962 4.14283937 5.65993348]\n",
      " ...\n",
      " [4.61739479 3.95111858 4.39575309 ... 5.43838556 3.86436457 5.12906015]\n",
      " [4.85752078 3.59755094 4.83133172 ... 5.92794067 4.14090859 5.23389289]\n",
      " [1.70297629 1.58531603 1.87149025 ... 2.2917259  1.82844772 2.09862004]]\n"
     ]
    }
   ],
   "source": [
    "# 查看原始评分矩阵\n",
    "print(R)\n",
    "\n",
    "# 查看预测评分矩阵\n",
    "print(pred_R)"
   ]
  },
  {
   "cell_type": "code",
   "execution_count": 55,
   "metadata": {},
   "outputs": [
    {
     "name": "stdout",
     "output_type": "stream",
     "text": [
      "[[ 0.63515899  0.70087118  0.27532434 ...  0.70137965  0.46049864\n",
      "   0.48081873]\n",
      " [ 0.42334738 -0.0409308   0.52977964 ...  0.13370648  0.51420447\n",
      "   0.09585611]\n",
      " [ 0.59403949  0.20872392  0.95027102 ...  0.35812882  0.17618668\n",
      "   0.91773258]\n",
      " ...\n",
      " [ 0.33612095  0.5602776   0.23844083 ...  0.92135     0.20579591\n",
      "   0.46387385]\n",
      " [ 0.69463388  0.36420377  0.18903136 ...  0.09281428  0.14197468\n",
      "   0.06744615]\n",
      " [ 0.76552926 -0.05297563  0.20699245 ...  0.28956855  0.58302395\n",
      "   0.01316316]]\n",
      "====================================================\n",
      "[[ 0.58639847  0.00698315  0.39374084 ...  0.76269012  0.7330314\n",
      "   0.71257912]\n",
      " [ 0.37649124  0.90481357  0.61311008 ...  0.22732441 -0.0253832\n",
      "   0.75034403]\n",
      " [ 0.51867303  0.22551452  0.48670581 ...  0.30595939  0.43547645\n",
      "   0.48006123]\n",
      " ...\n",
      " [ 0.90491178  0.88393711  0.43567433 ...  0.0850964   0.42636425\n",
      "   0.58598227]\n",
      " [ 0.23999208  0.37824131  0.24921961 ...  0.31357549  0.66681144\n",
      "   0.21138466]\n",
      " [ 0.73067211  0.70065972  0.77790943 ...  0.06385877  0.40266697\n",
      "   0.86059044]]\n"
     ]
    }
   ],
   "source": [
    "# 查看训练后的 P 和 Q 矩阵\n",
    "print(P)\n",
    "print(\"====================================================\")\n",
    "print(Q)"
   ]
  },
  {
   "cell_type": "code",
   "execution_count": 56,
   "metadata": {},
   "outputs": [],
   "source": [
    "# LFM模型评测指标\n",
    "# RMSE 和 MAE\n",
    "\n",
    "def calc_evaluation(R, pred_R):\n",
    "    mae_sum = 0.0\n",
    "    rmse_sum = 0.0\n",
    "    # 基本维度参数定义\n",
    "    M = R.shape[0]\n",
    "    N = R.shape[1]\n",
    "    T = 0\n",
    "    \n",
    "    for user in range(M):\n",
    "        for item in range(N):\n",
    "            if R[user, item] > 0:\n",
    "                T += 1\n",
    "                ess = R[user, item] - pred_R[user, item]\n",
    "                mae_sum += abs(ess)\n",
    "                rmse_sum += ess**2\n",
    "    \n",
    "    # 计算总的 MAE 指标\n",
    "    MAE = mae_sum / T\n",
    "    # Root Mean Square Error RMSE\n",
    "    RMSE = np.sqrt(rmse_sum / T)\n",
    "    return MAE, RMSE"
   ]
  },
  {
   "cell_type": "code",
   "execution_count": 57,
   "metadata": {},
   "outputs": [
    {
     "name": "stdout",
     "output_type": "stream",
     "text": [
      "the MAE of LFM: 0.13170055561856733\n",
      "the RMSE OF LFM: 0.146282740274264\n"
     ]
    }
   ],
   "source": [
    "MAE, RMSE = calc_evaluation(R, pred_R)\n",
    "print(\"the MAE of LFM:\", MAE)\n",
    "print(\"the RMSE OF LFM:\", RMSE) # 迭代次数为 100"
   ]
  },
  {
   "cell_type": "code",
   "execution_count": null,
   "metadata": {},
   "outputs": [],
   "source": []
  }
 ],
 "metadata": {
  "kernelspec": {
   "display_name": "Python 3",
   "language": "python",
   "name": "python3"
  },
  "language_info": {
   "codemirror_mode": {
    "name": "ipython",
    "version": 3
   },
   "file_extension": ".py",
   "mimetype": "text/x-python",
   "name": "python",
   "nbconvert_exporter": "python",
   "pygments_lexer": "ipython3",
   "version": "3.7.6"
  }
 },
 "nbformat": 4,
 "nbformat_minor": 4
}
