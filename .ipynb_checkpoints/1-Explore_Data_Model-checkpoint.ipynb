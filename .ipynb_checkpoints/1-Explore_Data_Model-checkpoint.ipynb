{
 "cells": [
  {
   "cell_type": "code",
   "execution_count": 1,
   "metadata": {},
   "outputs": [],
   "source": [
    "# 这些模块和包都是在逐步的探索中所需要的，然后全部汇总到这里，\n",
    "#    并不是一开始就知道了 ^_^ ^_^ ^_^\n",
    "# 1、导入模块和包\n",
    "import pandas as pd    # 加载并处理csv文件\n",
    "import datetime        # 利用datetime处理时间戳\n",
    "import _pickle as cPickle    # 数据以二进制进行高效的储存到文件\n",
    "from collections import defaultdict     # 利用Python设置稀疏矩阵的NULL位置的默认值\n",
    "import scipy.sparse as ss     # 利用scipy构建稀疏矩阵\n",
    "import scipy.io as sio    # 利用scipy储存评分矩阵\n",
    "import numpy as np    # 利用numpy创建指定长度或形状的矩阵以及矩阵运算\n",
    "from numpy.random import random    # numpy.random中的randn函数生成一些正态分布的随机数据\n",
    "import time    # 利用Python内置模块，计算训练时迭代的时间\n",
    "import json    # 将模型参数保存为json文件，加载模型参数json文件\n",
    "import scipy    # 将储存加载的稀疏评分矩阵转换为numpy矩阵形式"
   ]
  },
  {
   "cell_type": "code",
   "execution_count": 2,
   "metadata": {},
   "outputs": [
    {
     "data": {
      "text/html": [
       "<div>\n",
       "<style scoped>\n",
       "    .dataframe tbody tr th:only-of-type {\n",
       "        vertical-align: middle;\n",
       "    }\n",
       "\n",
       "    .dataframe tbody tr th {\n",
       "        vertical-align: top;\n",
       "    }\n",
       "\n",
       "    .dataframe thead th {\n",
       "        text-align: right;\n",
       "    }\n",
       "</style>\n",
       "<table border=\"1\" class=\"dataframe\">\n",
       "  <thead>\n",
       "    <tr style=\"text-align: right;\">\n",
       "      <th></th>\n",
       "      <th>userId</th>\n",
       "      <th>movieId</th>\n",
       "      <th>rating</th>\n",
       "      <th>timestamp</th>\n",
       "    </tr>\n",
       "  </thead>\n",
       "  <tbody>\n",
       "    <tr>\n",
       "      <th>0</th>\n",
       "      <td>1</td>\n",
       "      <td>296</td>\n",
       "      <td>5.0</td>\n",
       "      <td>2006-05-17 23:34:04</td>\n",
       "    </tr>\n",
       "    <tr>\n",
       "      <th>1</th>\n",
       "      <td>1</td>\n",
       "      <td>306</td>\n",
       "      <td>3.5</td>\n",
       "      <td>2006-05-17 20:26:57</td>\n",
       "    </tr>\n",
       "    <tr>\n",
       "      <th>2</th>\n",
       "      <td>1</td>\n",
       "      <td>307</td>\n",
       "      <td>5.0</td>\n",
       "      <td>2006-05-17 20:27:08</td>\n",
       "    </tr>\n",
       "    <tr>\n",
       "      <th>3</th>\n",
       "      <td>1</td>\n",
       "      <td>665</td>\n",
       "      <td>5.0</td>\n",
       "      <td>2006-05-17 23:13:40</td>\n",
       "    </tr>\n",
       "    <tr>\n",
       "      <th>4</th>\n",
       "      <td>1</td>\n",
       "      <td>899</td>\n",
       "      <td>3.5</td>\n",
       "      <td>2006-05-17 20:21:50</td>\n",
       "    </tr>\n",
       "  </tbody>\n",
       "</table>\n",
       "</div>"
      ],
      "text/plain": [
       "   userId  movieId  rating           timestamp\n",
       "0       1      296     5.0 2006-05-17 23:34:04\n",
       "1       1      306     3.5 2006-05-17 20:26:57\n",
       "2       1      307     5.0 2006-05-17 20:27:08\n",
       "3       1      665     5.0 2006-05-17 23:13:40\n",
       "4       1      899     3.5 2006-05-17 20:21:50"
      ]
     },
     "execution_count": 2,
     "metadata": {},
     "output_type": "execute_result"
    }
   ],
   "source": [
    "# 2、加载数据集\n",
    "\n",
    "# 设置数据储存位置\n",
    "data_path = \"./dataset/ml-25m/\"\n",
    "\n",
    "# pandas读取文件ratings.csv(两千五百多万行数据)\n",
    "csv_file = pd.read_csv(data_path + \"ratings.csv\", sep = \",\", nrows = 10000 )\n",
    "# 将时间戳转换\n",
    "csv_file[\"timestamp\"] = csv_file[\"timestamp\"].map(datetime.datetime.fromtimestamp)\n",
    "csv_file.head()"
   ]
  },
  {
   "cell_type": "code",
   "execution_count": 3,
   "metadata": {},
   "outputs": [
    {
     "data": {
      "text/plain": [
       "(10000, 4)"
      ]
     },
     "execution_count": 3,
     "metadata": {},
     "output_type": "execute_result"
    }
   ],
   "source": [
    "# 查看数据维度（行，列）\n",
    "csv_file.shape"
   ]
  },
  {
   "cell_type": "code",
   "execution_count": 4,
   "metadata": {},
   "outputs": [
    {
     "data": {
      "text/plain": [
       "(10000, 3)"
      ]
     },
     "execution_count": 4,
     "metadata": {},
     "output_type": "execute_result"
    }
   ],
   "source": [
    "# 将时间戳这个字段属性删除\n",
    "csv_file = csv_file.drop(['timestamp'], axis=1)\n",
    "\n",
    "# 查看数据维度（行，列）\n",
    "csv_file.shape"
   ]
  },
  {
   "cell_type": "code",
   "execution_count": 5,
   "metadata": {},
   "outputs": [
    {
     "data": {
      "text/html": [
       "<div>\n",
       "<style scoped>\n",
       "    .dataframe tbody tr th:only-of-type {\n",
       "        vertical-align: middle;\n",
       "    }\n",
       "\n",
       "    .dataframe tbody tr th {\n",
       "        vertical-align: top;\n",
       "    }\n",
       "\n",
       "    .dataframe thead th {\n",
       "        text-align: right;\n",
       "    }\n",
       "</style>\n",
       "<table border=\"1\" class=\"dataframe\">\n",
       "  <thead>\n",
       "    <tr style=\"text-align: right;\">\n",
       "      <th></th>\n",
       "      <th>userId</th>\n",
       "      <th>movieId</th>\n",
       "      <th>rating</th>\n",
       "    </tr>\n",
       "  </thead>\n",
       "  <tbody>\n",
       "    <tr>\n",
       "      <th>9995</th>\n",
       "      <td>75</td>\n",
       "      <td>736</td>\n",
       "      <td>4.0</td>\n",
       "    </tr>\n",
       "    <tr>\n",
       "      <th>9996</th>\n",
       "      <td>75</td>\n",
       "      <td>778</td>\n",
       "      <td>3.0</td>\n",
       "    </tr>\n",
       "    <tr>\n",
       "      <th>9997</th>\n",
       "      <td>75</td>\n",
       "      <td>783</td>\n",
       "      <td>3.0</td>\n",
       "    </tr>\n",
       "    <tr>\n",
       "      <th>9998</th>\n",
       "      <td>75</td>\n",
       "      <td>805</td>\n",
       "      <td>3.5</td>\n",
       "    </tr>\n",
       "    <tr>\n",
       "      <th>9999</th>\n",
       "      <td>75</td>\n",
       "      <td>832</td>\n",
       "      <td>3.0</td>\n",
       "    </tr>\n",
       "  </tbody>\n",
       "</table>\n",
       "</div>"
      ],
      "text/plain": [
       "      userId  movieId  rating\n",
       "9995      75      736     4.0\n",
       "9996      75      778     3.0\n",
       "9997      75      783     3.0\n",
       "9998      75      805     3.5\n",
       "9999      75      832     3.0"
      ]
     },
     "execution_count": 5,
     "metadata": {},
     "output_type": "execute_result"
    }
   ],
   "source": [
    "csv_file.tail()"
   ]
  },
  {
   "cell_type": "code",
   "execution_count": 6,
   "metadata": {},
   "outputs": [
    {
     "name": "stdout",
     "output_type": "stream",
     "text": [
      "(2000, 4)\n",
      "(8000, 4)\n"
     ]
    },
    {
     "data": {
      "text/html": [
       "<div>\n",
       "<style scoped>\n",
       "    .dataframe tbody tr th:only-of-type {\n",
       "        vertical-align: middle;\n",
       "    }\n",
       "\n",
       "    .dataframe tbody tr th {\n",
       "        vertical-align: top;\n",
       "    }\n",
       "\n",
       "    .dataframe thead th {\n",
       "        text-align: right;\n",
       "    }\n",
       "</style>\n",
       "<table border=\"1\" class=\"dataframe\">\n",
       "  <thead>\n",
       "    <tr style=\"text-align: right;\">\n",
       "      <th></th>\n",
       "      <th>userId</th>\n",
       "      <th>movieId</th>\n",
       "      <th>rating</th>\n",
       "      <th>split_index</th>\n",
       "    </tr>\n",
       "  </thead>\n",
       "  <tbody>\n",
       "    <tr>\n",
       "      <th>8272</th>\n",
       "      <td>62</td>\n",
       "      <td>51084</td>\n",
       "      <td>3.5</td>\n",
       "      <td>0</td>\n",
       "    </tr>\n",
       "    <tr>\n",
       "      <th>1254</th>\n",
       "      <td>6</td>\n",
       "      <td>260</td>\n",
       "      <td>5.0</td>\n",
       "      <td>0</td>\n",
       "    </tr>\n",
       "    <tr>\n",
       "      <th>479</th>\n",
       "      <td>3</td>\n",
       "      <td>6537</td>\n",
       "      <td>3.5</td>\n",
       "      <td>0</td>\n",
       "    </tr>\n",
       "    <tr>\n",
       "      <th>2730</th>\n",
       "      <td>13</td>\n",
       "      <td>48516</td>\n",
       "      <td>5.0</td>\n",
       "      <td>0</td>\n",
       "    </tr>\n",
       "    <tr>\n",
       "      <th>7667</th>\n",
       "      <td>59</td>\n",
       "      <td>5146</td>\n",
       "      <td>3.5</td>\n",
       "      <td>0</td>\n",
       "    </tr>\n",
       "  </tbody>\n",
       "</table>\n",
       "</div>"
      ],
      "text/plain": [
       "      userId  movieId  rating  split_index\n",
       "8272      62    51084     3.5            0\n",
       "1254       6      260     5.0            0\n",
       "479        3     6537     3.5            0\n",
       "2730      13    48516     5.0            0\n",
       "7667      59     5146     3.5            0"
      ]
     },
     "execution_count": 6,
     "metadata": {},
     "output_type": "execute_result"
    }
   ],
   "source": [
    "# 数据集划分训练集和测试集\n",
    "\n",
    "# shuffle = True ：Ture 为打乱数据集进行划分，False为不打乱数据集划分\n",
    "def random_split (df, ratios, shuffle = True):\n",
    "    \n",
    "    # Function to split pandas DataFrame into train, validation and test\n",
    "    #\n",
    "    # Params:     \n",
    "    #    df (pd.DataFrame): Pandas data frame to be split.\n",
    "    #    ratios (list of floats): list of ratios for split. The ratios have to sum to 1.\n",
    "    #\n",
    "    # Returns: \n",
    "    #    list: List of pd.DataFrame split by the given specifications.\n",
    "    # ###################################################################################   \n",
    "    \n",
    "    seed = 42                  # Set random seed\n",
    "    if shuffle == True:\n",
    "        df = df.sample(frac=1)     # Shuffle the data\n",
    "    samples = df.shape[0]      # Number of samples\n",
    "    \n",
    "    # Converts [0.7, 0.2, 0.1] to [0.7, 0.9]\n",
    "    split_ratio = np.cumsum(ratios).tolist()[:-1] # Get split index\n",
    "    \n",
    "    # Get the rounded integer split index\n",
    "    split_index = [round(x * samples) for x in split_ratio]\n",
    "    \n",
    "    # split the data\n",
    "    splits = np.split(df, split_index)\n",
    "    \n",
    "    # Add split index (this makes splitting by group more efficient).\n",
    "    for i in range(len(ratios)):\n",
    "        splits[i][\"split_index\"] = i\n",
    "\n",
    "    return splits\n",
    "\n",
    "# 划分数据集\n",
    "train, test = random_split(csv_file, [0.8, 0.2])\n",
    "\n",
    "# 保存数据集为训练集和测试集\n",
    "# 利用pandas的 DataFrame的to_csv方法，将数据写到一个以逗号分隔的文件中\n",
    "train.to_csv(data_path + \"train.csv\")\n",
    "test.to_csv(data_path + \"test.csv\")\n",
    "\n",
    "print(test.shape)\n",
    "print(train.shape)\n",
    "train.tail()"
   ]
  },
  {
   "cell_type": "code",
   "execution_count": 7,
   "metadata": {},
   "outputs": [
    {
     "data": {
      "text/html": [
       "<div>\n",
       "<style scoped>\n",
       "    .dataframe tbody tr th:only-of-type {\n",
       "        vertical-align: middle;\n",
       "    }\n",
       "\n",
       "    .dataframe tbody tr th {\n",
       "        vertical-align: top;\n",
       "    }\n",
       "\n",
       "    .dataframe thead th {\n",
       "        text-align: right;\n",
       "    }\n",
       "</style>\n",
       "<table border=\"1\" class=\"dataframe\">\n",
       "  <thead>\n",
       "    <tr style=\"text-align: right;\">\n",
       "      <th></th>\n",
       "      <th>userId</th>\n",
       "      <th>movieId</th>\n",
       "      <th>rating</th>\n",
       "      <th>split_index</th>\n",
       "    </tr>\n",
       "  </thead>\n",
       "  <tbody>\n",
       "    <tr>\n",
       "      <th>3234</th>\n",
       "      <td>19</td>\n",
       "      <td>1029</td>\n",
       "      <td>2.0</td>\n",
       "      <td>1</td>\n",
       "    </tr>\n",
       "    <tr>\n",
       "      <th>9514</th>\n",
       "      <td>72</td>\n",
       "      <td>2080</td>\n",
       "      <td>5.0</td>\n",
       "      <td>1</td>\n",
       "    </tr>\n",
       "    <tr>\n",
       "      <th>4904</th>\n",
       "      <td>31</td>\n",
       "      <td>33836</td>\n",
       "      <td>1.5</td>\n",
       "      <td>1</td>\n",
       "    </tr>\n",
       "    <tr>\n",
       "      <th>2835</th>\n",
       "      <td>13</td>\n",
       "      <td>78266</td>\n",
       "      <td>1.0</td>\n",
       "      <td>1</td>\n",
       "    </tr>\n",
       "    <tr>\n",
       "      <th>1395</th>\n",
       "      <td>8</td>\n",
       "      <td>1022</td>\n",
       "      <td>4.0</td>\n",
       "      <td>1</td>\n",
       "    </tr>\n",
       "  </tbody>\n",
       "</table>\n",
       "</div>"
      ],
      "text/plain": [
       "      userId  movieId  rating  split_index\n",
       "3234      19     1029     2.0            1\n",
       "9514      72     2080     5.0            1\n",
       "4904      31    33836     1.5            1\n",
       "2835      13    78266     1.0            1\n",
       "1395       8     1022     4.0            1"
      ]
     },
     "execution_count": 7,
     "metadata": {},
     "output_type": "execute_result"
    }
   ],
   "source": [
    "test.head()"
   ]
  },
  {
   "cell_type": "code",
   "execution_count": null,
   "metadata": {},
   "outputs": [],
   "source": []
  }
 ],
 "metadata": {
  "kernelspec": {
   "display_name": "Python 3",
   "language": "python",
   "name": "python3"
  },
  "language_info": {
   "codemirror_mode": {
    "name": "ipython",
    "version": 3
   },
   "file_extension": ".py",
   "mimetype": "text/x-python",
   "name": "python",
   "nbconvert_exporter": "python",
   "pygments_lexer": "ipython3",
   "version": "3.7.6"
  }
 },
 "nbformat": 4,
 "nbformat_minor": 4
}
